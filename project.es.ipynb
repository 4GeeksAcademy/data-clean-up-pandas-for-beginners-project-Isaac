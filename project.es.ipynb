{
  "cells": [
    {
      "cell_type": "markdown",
      "id": "66fac57f",
      "metadata": {},
      "source": [
        "# Prácticas básicas con Python\n",
        "\n",
        "#### Ejercicio 00. Declaración de Variables\n",
        "\n",
        "Define las siguientes variables con valores que tú elijas:\n",
        "\n",
        "- Una variable que almacene tu nombre (texto).\n",
        "- Una variable que almacene tu edad (número entero).\n",
        "- Una variable que indique si te gusta la programación (verdadero o falso).\n",
        "- Una variable que almacene tu calificación promedio (número decimal).\n"
      ]
    },
    {
      "cell_type": "code",
      "execution_count": 2,
      "id": "4eca514d",
      "metadata": {},
      "outputs": [],
      "source": [
        "# Declara aquí tus variables.\n",
        "nombre = \"Isaac\"\n",
        "edad = 30\n",
        "TGP = True \n",
        "C_promedio = 7,5\n",
        "#Ejemplo\n",
        "saludo = \"Hola mundo\"\n"
      ]
    },
    {
      "cell_type": "markdown",
      "id": "21e43590",
      "metadata": {},
      "source": [
        "- Crea una lista con tus cinco números favoritos e imprimelo."
      ]
    },
    {
      "cell_type": "code",
      "execution_count": 1,
      "id": "69f9e072",
      "metadata": {},
      "outputs": [
        {
          "data": {
            "text/plain": [
              "[10, 8, 28, 30, 21]"
            ]
          },
          "execution_count": 1,
          "metadata": {},
          "output_type": "execute_result"
        }
      ],
      "source": [
        "# Lista de números favoritos\n",
        "lista = [10,8,28,30,21]\n",
        "lista\n"
      ]
    },
    {
      "cell_type": "markdown",
      "id": "9946452f",
      "metadata": {},
      "source": [
        "- Crea un diccionario que guarde la información de un estudiante e imprimelo:\n",
        "\n",
        "        - Nombre\n",
        "        - Edad\n",
        "        - Calificación final"
      ]
    },
    {
      "cell_type": "code",
      "execution_count": 3,
      "id": "0d30fb44",
      "metadata": {},
      "outputs": [
        {
          "data": {
            "text/plain": [
              "{'Nombre': 'Isaac', 'Edad': 30, 'Calificacion Final': 7}"
            ]
          },
          "execution_count": 3,
          "metadata": {},
          "output_type": "execute_result"
        }
      ],
      "source": [
        "# Diccionario del estudiante\n",
        "estudiante = { \"Nombre\": \"Isaac\", \"Edad\": 30, \"Calificacion Final\": 7}\n",
        "estudiante"
      ]
    },
    {
      "cell_type": "markdown",
      "id": "91eb860d",
      "metadata": {},
      "source": [
        "#### Ejercicio 01. Análisis de datos básico con estructuras nativas de python.\n",
        "Crea una lista con las calificaciones de 5 estudiantes: [8.5, 9.2, 7.8, 8.9, 10].\n",
        "\n",
        "- Calcula el promedio de las calificaciones."
      ]
    },
    {
      "cell_type": "code",
      "execution_count": 4,
      "id": "41b747dc",
      "metadata": {},
      "outputs": [
        {
          "data": {
            "text/plain": [
              "8.879999999999999"
            ]
          },
          "execution_count": 4,
          "metadata": {},
          "output_type": "execute_result"
        }
      ],
      "source": [
        "# Código\n",
        "lista = [8.5,9.2,7.8,8.9,10]\n",
        "promedio_lista = sum(lista)/len(lista)\n",
        "promedio_lista"
      ]
    },
    {
      "cell_type": "markdown",
      "id": "699ac3a6",
      "metadata": {},
      "source": [
        "- Encuentra la calificación más alta y la más baja."
      ]
    },
    {
      "cell_type": "code",
      "execution_count": null,
      "id": "0224afb4",
      "metadata": {},
      "outputs": [
        {
          "data": {
            "text/plain": [
              "10"
            ]
          },
          "execution_count": 6,
          "metadata": {},
          "output_type": "execute_result"
        }
      ],
      "source": [
        "# Código\n",
        "lista = [8.5,9.2,7.8,8.9,10]\n",
        "prom_bajo = min(lista)\n",
        "prom_alto = max(lista)\n",
        "\n"
      ]
    },
    {
      "attachments": {},
      "cell_type": "markdown",
      "id": "innocent-university",
      "metadata": {},
      "source": [
        "# Limpieza de bienes raíces con Pandas para un análisis eficiente \n",
        "\n",
        "Este es un conjunto de datos (dataset) reales que fue descargado usando técnicas de web scraping. La data contiene registros de **Fotocasa**, el cual es uno de los sitios más populares de bienes raíces en España. Por favor no hagas esto (web scraping) a no ser que sea para propósitos académicos.\n",
        "\n",
        "El dataset fue descargado hace algunos años por Henry Navarro y en ningún caso se obtuvo beneficio económico de ello.\n",
        "\n",
        "Contiene miles de datos de casas reales publicadas en la web www.fotocasa.com. Tu objetivo es extraer tanta información como sea posible con el conocimiento que tienes hasta ahora de ciencia de datos.\n",
        "\n",
        "¡Comencemos!\n",
        "\n",
        "\n",
        "\n",
        "\n",
        "- Primero leamos y exploraremos el dataset"
      ]
    },
    {
      "cell_type": "code",
      "execution_count": null,
      "id": "frank-heath",
      "metadata": {},
      "outputs": [
        {
          "data": {
            "text/html": [
              "<div>\n",
              "<style scoped>\n",
              "    .dataframe tbody tr th:only-of-type {\n",
              "        vertical-align: middle;\n",
              "    }\n",
              "\n",
              "    .dataframe tbody tr th {\n",
              "        vertical-align: top;\n",
              "    }\n",
              "\n",
              "    .dataframe thead th {\n",
              "        text-align: right;\n",
              "    }\n",
              "</style>\n",
              "<table border=\"1\" class=\"dataframe\">\n",
              "  <thead>\n",
              "    <tr style=\"text-align: right;\">\n",
              "      <th></th>\n",
              "      <th>Unnamed: 0</th>\n",
              "      <th>id_realEstates</th>\n",
              "      <th>isNew</th>\n",
              "      <th>realEstate_name</th>\n",
              "      <th>phone_realEstate</th>\n",
              "      <th>url_inmueble</th>\n",
              "      <th>rooms</th>\n",
              "      <th>bathrooms</th>\n",
              "      <th>surface</th>\n",
              "      <th>price</th>\n",
              "      <th>...</th>\n",
              "      <th>level4Id</th>\n",
              "      <th>level5Id</th>\n",
              "      <th>level6Id</th>\n",
              "      <th>level7Id</th>\n",
              "      <th>level8Id</th>\n",
              "      <th>accuracy</th>\n",
              "      <th>latitude</th>\n",
              "      <th>longitude</th>\n",
              "      <th>zipCode</th>\n",
              "      <th>customZone</th>\n",
              "    </tr>\n",
              "  </thead>\n",
              "  <tbody>\n",
              "    <tr>\n",
              "      <th>0</th>\n",
              "      <td>1</td>\n",
              "      <td>153771986</td>\n",
              "      <td>False</td>\n",
              "      <td>ferrari 57 inmobiliaria</td>\n",
              "      <td>912177526.0</td>\n",
              "      <td>https://www.fotocasa.es/es/comprar/vivienda/ma...</td>\n",
              "      <td>3.0</td>\n",
              "      <td>2.0</td>\n",
              "      <td>103.0</td>\n",
              "      <td>195000</td>\n",
              "      <td>...</td>\n",
              "      <td>0</td>\n",
              "      <td>0</td>\n",
              "      <td>0</td>\n",
              "      <td>0</td>\n",
              "      <td>0</td>\n",
              "      <td>0</td>\n",
              "      <td>40,2948276786438</td>\n",
              "      <td>-3,44402412135624</td>\n",
              "      <td>NaN</td>\n",
              "      <td>NaN</td>\n",
              "    </tr>\n",
              "    <tr>\n",
              "      <th>1</th>\n",
              "      <td>2</td>\n",
              "      <td>153867863</td>\n",
              "      <td>False</td>\n",
              "      <td>tecnocasa fuenlabrada ferrocarril</td>\n",
              "      <td>916358736.0</td>\n",
              "      <td>https://www.fotocasa.es/es/comprar/vivienda/ma...</td>\n",
              "      <td>3.0</td>\n",
              "      <td>1.0</td>\n",
              "      <td>NaN</td>\n",
              "      <td>89000</td>\n",
              "      <td>...</td>\n",
              "      <td>0</td>\n",
              "      <td>0</td>\n",
              "      <td>0</td>\n",
              "      <td>0</td>\n",
              "      <td>0</td>\n",
              "      <td>1</td>\n",
              "      <td>40,28674</td>\n",
              "      <td>-3,79351</td>\n",
              "      <td>NaN</td>\n",
              "      <td>NaN</td>\n",
              "    </tr>\n",
              "    <tr>\n",
              "      <th>2</th>\n",
              "      <td>3</td>\n",
              "      <td>153430440</td>\n",
              "      <td>False</td>\n",
              "      <td>look find boadilla</td>\n",
              "      <td>916350408.0</td>\n",
              "      <td>https://www.fotocasa.es/es/comprar/vivienda/ma...</td>\n",
              "      <td>2.0</td>\n",
              "      <td>2.0</td>\n",
              "      <td>99.0</td>\n",
              "      <td>390000</td>\n",
              "      <td>...</td>\n",
              "      <td>0</td>\n",
              "      <td>0</td>\n",
              "      <td>0</td>\n",
              "      <td>0</td>\n",
              "      <td>0</td>\n",
              "      <td>0</td>\n",
              "      <td>40,4115646786438</td>\n",
              "      <td>-3,90662252135624</td>\n",
              "      <td>NaN</td>\n",
              "      <td>NaN</td>\n",
              "    </tr>\n",
              "    <tr>\n",
              "      <th>3</th>\n",
              "      <td>4</td>\n",
              "      <td>152776331</td>\n",
              "      <td>False</td>\n",
              "      <td>tecnocasa fuenlabrada ferrocarril</td>\n",
              "      <td>916358736.0</td>\n",
              "      <td>https://www.fotocasa.es/es/comprar/vivienda/ma...</td>\n",
              "      <td>3.0</td>\n",
              "      <td>1.0</td>\n",
              "      <td>86.0</td>\n",
              "      <td>89000</td>\n",
              "      <td>...</td>\n",
              "      <td>0</td>\n",
              "      <td>0</td>\n",
              "      <td>0</td>\n",
              "      <td>0</td>\n",
              "      <td>0</td>\n",
              "      <td>0</td>\n",
              "      <td>40,2853785786438</td>\n",
              "      <td>-3,79508142135624</td>\n",
              "      <td>NaN</td>\n",
              "      <td>NaN</td>\n",
              "    </tr>\n",
              "    <tr>\n",
              "      <th>4</th>\n",
              "      <td>5</td>\n",
              "      <td>153180188</td>\n",
              "      <td>False</td>\n",
              "      <td>ferrari 57 inmobiliaria</td>\n",
              "      <td>912177526.0</td>\n",
              "      <td>https://www.fotocasa.es/es/comprar/vivienda/ma...</td>\n",
              "      <td>2.0</td>\n",
              "      <td>2.0</td>\n",
              "      <td>106.0</td>\n",
              "      <td>172000</td>\n",
              "      <td>...</td>\n",
              "      <td>0</td>\n",
              "      <td>0</td>\n",
              "      <td>0</td>\n",
              "      <td>0</td>\n",
              "      <td>0</td>\n",
              "      <td>0</td>\n",
              "      <td>40,2998774864376</td>\n",
              "      <td>-3,45226301356237</td>\n",
              "      <td>NaN</td>\n",
              "      <td>NaN</td>\n",
              "    </tr>\n",
              "    <tr>\n",
              "      <th>...</th>\n",
              "      <td>...</td>\n",
              "      <td>...</td>\n",
              "      <td>...</td>\n",
              "      <td>...</td>\n",
              "      <td>...</td>\n",
              "      <td>...</td>\n",
              "      <td>...</td>\n",
              "      <td>...</td>\n",
              "      <td>...</td>\n",
              "      <td>...</td>\n",
              "      <td>...</td>\n",
              "      <td>...</td>\n",
              "      <td>...</td>\n",
              "      <td>...</td>\n",
              "      <td>...</td>\n",
              "      <td>...</td>\n",
              "      <td>...</td>\n",
              "      <td>...</td>\n",
              "      <td>...</td>\n",
              "      <td>...</td>\n",
              "      <td>...</td>\n",
              "    </tr>\n",
              "    <tr>\n",
              "      <th>15330</th>\n",
              "      <td>15331</td>\n",
              "      <td>153901377</td>\n",
              "      <td>False</td>\n",
              "      <td>infocasa consulting</td>\n",
              "      <td>911360461.0</td>\n",
              "      <td>https://www.fotocasa.es/es/comprar/vivienda/ma...</td>\n",
              "      <td>2.0</td>\n",
              "      <td>1.0</td>\n",
              "      <td>96.0</td>\n",
              "      <td>259470</td>\n",
              "      <td>...</td>\n",
              "      <td>0</td>\n",
              "      <td>0</td>\n",
              "      <td>0</td>\n",
              "      <td>0</td>\n",
              "      <td>0</td>\n",
              "      <td>0</td>\n",
              "      <td>40,45416</td>\n",
              "      <td>-3,70286</td>\n",
              "      <td>NaN</td>\n",
              "      <td>NaN</td>\n",
              "    </tr>\n",
              "    <tr>\n",
              "      <th>15331</th>\n",
              "      <td>15332</td>\n",
              "      <td>150394373</td>\n",
              "      <td>False</td>\n",
              "      <td>inmobiliaria pulpon</td>\n",
              "      <td>912788039.0</td>\n",
              "      <td>https://www.fotocasa.es/es/comprar/vivienda/ma...</td>\n",
              "      <td>3.0</td>\n",
              "      <td>1.0</td>\n",
              "      <td>150.0</td>\n",
              "      <td>165000</td>\n",
              "      <td>...</td>\n",
              "      <td>0</td>\n",
              "      <td>0</td>\n",
              "      <td>0</td>\n",
              "      <td>0</td>\n",
              "      <td>0</td>\n",
              "      <td>0</td>\n",
              "      <td>40,36652</td>\n",
              "      <td>-3,48951</td>\n",
              "      <td>NaN</td>\n",
              "      <td>NaN</td>\n",
              "    </tr>\n",
              "    <tr>\n",
              "      <th>15332</th>\n",
              "      <td>15333</td>\n",
              "      <td>153901397</td>\n",
              "      <td>False</td>\n",
              "      <td>tecnocasa torrelodones</td>\n",
              "      <td>912780348.0</td>\n",
              "      <td>https://www.fotocasa.es/es/comprar/vivienda/ma...</td>\n",
              "      <td>4.0</td>\n",
              "      <td>2.0</td>\n",
              "      <td>175.0</td>\n",
              "      <td>495000</td>\n",
              "      <td>...</td>\n",
              "      <td>0</td>\n",
              "      <td>0</td>\n",
              "      <td>0</td>\n",
              "      <td>0</td>\n",
              "      <td>0</td>\n",
              "      <td>0</td>\n",
              "      <td>40,57444</td>\n",
              "      <td>-3,92124</td>\n",
              "      <td>NaN</td>\n",
              "      <td>NaN</td>\n",
              "    </tr>\n",
              "    <tr>\n",
              "      <th>15333</th>\n",
              "      <td>15334</td>\n",
              "      <td>152607440</td>\n",
              "      <td>False</td>\n",
              "      <td>inmobiliaria pulpon</td>\n",
              "      <td>912788039.0</td>\n",
              "      <td>https://www.fotocasa.es/es/comprar/vivienda/ma...</td>\n",
              "      <td>3.0</td>\n",
              "      <td>2.0</td>\n",
              "      <td>101.0</td>\n",
              "      <td>195000</td>\n",
              "      <td>...</td>\n",
              "      <td>0</td>\n",
              "      <td>0</td>\n",
              "      <td>0</td>\n",
              "      <td>0</td>\n",
              "      <td>0</td>\n",
              "      <td>0</td>\n",
              "      <td>40,36967</td>\n",
              "      <td>-3,48105</td>\n",
              "      <td>NaN</td>\n",
              "      <td>NaN</td>\n",
              "    </tr>\n",
              "    <tr>\n",
              "      <th>15334</th>\n",
              "      <td>15335</td>\n",
              "      <td>153901356</td>\n",
              "      <td>False</td>\n",
              "      <td>infocasa consulting</td>\n",
              "      <td>911360461.0</td>\n",
              "      <td>https://www.fotocasa.es/es/comprar/vivienda/ma...</td>\n",
              "      <td>3.0</td>\n",
              "      <td>2.0</td>\n",
              "      <td>152.0</td>\n",
              "      <td>765000</td>\n",
              "      <td>...</td>\n",
              "      <td>0</td>\n",
              "      <td>0</td>\n",
              "      <td>0</td>\n",
              "      <td>0</td>\n",
              "      <td>0</td>\n",
              "      <td>0</td>\n",
              "      <td>40,45773</td>\n",
              "      <td>-3,69068</td>\n",
              "      <td>NaN</td>\n",
              "      <td>NaN</td>\n",
              "    </tr>\n",
              "  </tbody>\n",
              "</table>\n",
              "<p>15335 rows × 37 columns</p>\n",
              "</div>"
            ],
            "text/plain": [
              "       Unnamed: 0  id_realEstates  isNew                    realEstate_name  \\\n",
              "0               1       153771986  False            ferrari 57 inmobiliaria   \n",
              "1               2       153867863  False  tecnocasa fuenlabrada ferrocarril   \n",
              "2               3       153430440  False                 look find boadilla   \n",
              "3               4       152776331  False  tecnocasa fuenlabrada ferrocarril   \n",
              "4               5       153180188  False            ferrari 57 inmobiliaria   \n",
              "...           ...             ...    ...                                ...   \n",
              "15330       15331       153901377  False                infocasa consulting   \n",
              "15331       15332       150394373  False                inmobiliaria pulpon   \n",
              "15332       15333       153901397  False             tecnocasa torrelodones   \n",
              "15333       15334       152607440  False                inmobiliaria pulpon   \n",
              "15334       15335       153901356  False                infocasa consulting   \n",
              "\n",
              "       phone_realEstate                                       url_inmueble  \\\n",
              "0           912177526.0  https://www.fotocasa.es/es/comprar/vivienda/ma...   \n",
              "1           916358736.0  https://www.fotocasa.es/es/comprar/vivienda/ma...   \n",
              "2           916350408.0  https://www.fotocasa.es/es/comprar/vivienda/ma...   \n",
              "3           916358736.0  https://www.fotocasa.es/es/comprar/vivienda/ma...   \n",
              "4           912177526.0  https://www.fotocasa.es/es/comprar/vivienda/ma...   \n",
              "...                 ...                                                ...   \n",
              "15330       911360461.0  https://www.fotocasa.es/es/comprar/vivienda/ma...   \n",
              "15331       912788039.0  https://www.fotocasa.es/es/comprar/vivienda/ma...   \n",
              "15332       912780348.0  https://www.fotocasa.es/es/comprar/vivienda/ma...   \n",
              "15333       912788039.0  https://www.fotocasa.es/es/comprar/vivienda/ma...   \n",
              "15334       911360461.0  https://www.fotocasa.es/es/comprar/vivienda/ma...   \n",
              "\n",
              "       rooms  bathrooms  surface   price  ... level4Id level5Id level6Id  \\\n",
              "0        3.0        2.0    103.0  195000  ...        0        0        0   \n",
              "1        3.0        1.0      NaN   89000  ...        0        0        0   \n",
              "2        2.0        2.0     99.0  390000  ...        0        0        0   \n",
              "3        3.0        1.0     86.0   89000  ...        0        0        0   \n",
              "4        2.0        2.0    106.0  172000  ...        0        0        0   \n",
              "...      ...        ...      ...     ...  ...      ...      ...      ...   \n",
              "15330    2.0        1.0     96.0  259470  ...        0        0        0   \n",
              "15331    3.0        1.0    150.0  165000  ...        0        0        0   \n",
              "15332    4.0        2.0    175.0  495000  ...        0        0        0   \n",
              "15333    3.0        2.0    101.0  195000  ...        0        0        0   \n",
              "15334    3.0        2.0    152.0  765000  ...        0        0        0   \n",
              "\n",
              "      level7Id level8Id accuracy          latitude          longitude zipCode  \\\n",
              "0            0        0        0  40,2948276786438  -3,44402412135624     NaN   \n",
              "1            0        0        1          40,28674           -3,79351     NaN   \n",
              "2            0        0        0  40,4115646786438  -3,90662252135624     NaN   \n",
              "3            0        0        0  40,2853785786438  -3,79508142135624     NaN   \n",
              "4            0        0        0  40,2998774864376  -3,45226301356237     NaN   \n",
              "...        ...      ...      ...               ...                ...     ...   \n",
              "15330        0        0        0          40,45416           -3,70286     NaN   \n",
              "15331        0        0        0          40,36652           -3,48951     NaN   \n",
              "15332        0        0        0          40,57444           -3,92124     NaN   \n",
              "15333        0        0        0          40,36967           -3,48105     NaN   \n",
              "15334        0        0        0          40,45773           -3,69068     NaN   \n",
              "\n",
              "      customZone  \n",
              "0            NaN  \n",
              "1            NaN  \n",
              "2            NaN  \n",
              "3            NaN  \n",
              "4            NaN  \n",
              "...          ...  \n",
              "15330        NaN  \n",
              "15331        NaN  \n",
              "15332        NaN  \n",
              "15333        NaN  \n",
              "15334        NaN  \n",
              "\n",
              "[15335 rows x 37 columns]"
            ]
          },
          "execution_count": 1,
          "metadata": {},
          "output_type": "execute_result"
        }
      ],
      "source": [
        "import pandas as pd\n",
        "\n",
        "# Leer el archivo CSV\n",
        "ds = pd.read_csv('assets/real_estate.csv', sep=';') # Este archivo CSV contiene puntos y comas en lugar de comas como separadores\n",
        "ds # mostramos todo"
      ]
    },
    {
      "cell_type": "markdown",
      "id": "19bc6aa8",
      "metadata": {},
      "source": [
        "- Muestra las primeras filas del archivo CSV"
      ]
    },
    {
      "cell_type": "code",
      "execution_count": 3,
      "id": "93434fb6",
      "metadata": {},
      "outputs": [
        {
          "name": "stdout",
          "output_type": "stream",
          "text": [
            "   Unnamed: 0  id_realEstates  isNew                    realEstate_name  \\\n",
            "0           1       153771986  False            ferrari 57 inmobiliaria   \n",
            "1           2       153867863  False  tecnocasa fuenlabrada ferrocarril   \n",
            "\n",
            "   phone_realEstate                                       url_inmueble  rooms  \\\n",
            "0       912177526.0  https://www.fotocasa.es/es/comprar/vivienda/ma...    3.0   \n",
            "1       916358736.0  https://www.fotocasa.es/es/comprar/vivienda/ma...    3.0   \n",
            "\n",
            "   bathrooms  surface   price  ... level4Id level5Id level6Id level7Id  \\\n",
            "0        2.0    103.0  195000  ...        0        0        0        0   \n",
            "1        1.0      NaN   89000  ...        0        0        0        0   \n",
            "\n",
            "  level8Id accuracy          latitude          longitude zipCode customZone  \n",
            "0        0        0  40,2948276786438  -3,44402412135624     NaN        NaN  \n",
            "1        0        1          40,28674           -3,79351     NaN        NaN  \n",
            "\n",
            "[2 rows x 37 columns]\n"
          ]
        }
      ],
      "source": [
        "# Mostrar las primeras filas\n",
        "import pandas as pd\n",
        "\n",
        "# Leer el archivo CSV\n",
        "ds = pd.read_csv('assets/real_estate.csv', sep=';')\n",
        "print(ds.head(2))\n"
      ]
    },
    {
      "cell_type": "markdown",
      "id": "a1095c6b",
      "metadata": {},
      "source": [
        "Perfecto, esto fue una pequeña practica. ¡Ahora empecemos con los verdaderos ejercicios!"
      ]
    },
    {
      "attachments": {},
      "cell_type": "markdown",
      "id": "latin-guest",
      "metadata": {},
      "source": [
        "#### Ejercicio 01. ¿Cuál es la casa más cara en todo el dataset? (★☆☆)\n",
        "\n",
        "Imprime la dirección y el precio de la casa seleccionada. Por ejemplo:\n",
        "\n",
        "`La casa con dirección en Calle del Prado, Nº20 es la más cara y su precio es de 5000000 USD`"
      ]
    },
    {
      "cell_type": "code",
      "execution_count": null,
      "id": "developing-optimum",
      "metadata": {},
      "outputs": [
        {
          "name": "stdout",
          "output_type": "stream",
          "text": [
            "La casa con dirección en engel volkers torrelodones es la más cara y su precio es de 8,500,000 EUR\n"
          ]
        }
      ],
      "source": [
        "# TODO\n",
        "import pandas as pd\n",
        "df = pd.read_csv('assets/real_estate.csv', sep=';')\n",
        "df['price'] = df['price'].replace('[^0-9]', '', regex=True)\n",
        "df['price'] = pd.to_numeric(df['price'], errors='coerce')\n",
        "df = df.dropna(subset=['price'])\n",
        "casa_mas_cara = df.loc[df['price'].idxmax()]\n",
        "direccion = casa_mas_cara['level5']\n",
        "precio = casa_mas_cara['price']\n",
        "print(f\"La casa con dirección en {direccion} es la más cara y su precio es de {int(precio):,} EUR\")\n"
      ]
    },
    {
      "attachments": {},
      "cell_type": "markdown",
      "id": "lesser-cosmetic",
      "metadata": {},
      "source": [
        "#### Ejercicio 02. ¿Cuál es la casa más barata del dataset? (★☆☆)\n",
        "\n",
        "Este ejercicio es similar al ejercicio anterior, solo que ahora buscamos la casa con el precio más bajo. Recuerda imprimir la dirección y el precio de la casa seleccionada. Por ejemplo:\n",
        "\n",
        "`La casa con dirección en Calle Alcalá, Nº58 es la más barata y su precio es de 12000 USD`"
      ]
    },
    {
      "cell_type": "code",
      "execution_count": 6,
      "id": "lovely-oasis",
      "metadata": {},
      "outputs": [
        {
          "name": "stdout",
          "output_type": "stream",
          "text": [
            "La casa con dirección en Coslada es la más barata y su precio es de 600 EUR\n"
          ]
        }
      ],
      "source": [
        "# TODO\n",
        "import pandas as pd\n",
        "df = pd.read_csv('assets/real_estate.csv', sep=';')\n",
        "df['price'] = df['price'].replace('[^0-9]', '', regex=True)\n",
        "df['price'] = pd.to_numeric(df['price'], errors='coerce')\n",
        "df = df.dropna(subset=['price'])\n",
        "df_filtrado = df[df['price'] > 0]\n",
        "\n",
        "casa_mas_barata = df_filtrado.loc[df_filtrado['price'].idxmin()]\n",
        "direccion = casa_mas_barata['level5']\n",
        "precio = casa_mas_barata['price']\n",
        "\n",
        "print(f\"La casa con dirección en {direccion} es la más barata y su precio es de {int(precio):,} EUR\")"
      ]
    },
    {
      "attachments": {},
      "cell_type": "markdown",
      "id": "compliant-fellowship",
      "metadata": {},
      "source": [
        "#### Ejercicio 03. ¿Cuál es la casa más grande y la más pequeña del dataset? (★☆☆)\n",
        "\n",
        "Imprime la dirección y el área de las casas seleccionadas. Por ejemplo:\n",
        "\n",
        "`La casa más grande está ubicada en Calle Gran Vía, Nº38 y su superficie es de 5000 metros`\n",
        "\n",
        "`La casa más pequeña está ubicada en Calle Mayor, Nº12 y su superficie es de 200 metros`\n",
        "\n",
        "Este ejercicio es similar al anterior, pero buscamos las casas más grandes y pequeñas en base a su superficie."
      ]
    },
    {
      "cell_type": "code",
      "execution_count": null,
      "id": "every-tiffany",
      "metadata": {},
      "outputs": [
        {
          "name": "stdout",
          "output_type": "stream",
          "text": [
            "La casa más grande está ubicada en Sevilla la Nueva y su superficie es de 249000 metros\n",
            "La casa más pequeña está ubicada en toledo21 y su superficie es de 15 metros\n"
          ]
        }
      ],
      "source": [
        "# TODO\n",
        "import pandas as pd\n",
        "df = pd.read_csv('assets/real_estate.csv', sep=';')\n",
        "df['surface'] = df['surface'].astype(str).str.extract('(\\d+)').astype(float)\n",
        "casa_mas_grande = df.loc[df['surface'].idxmax()]\n",
        "direccion_grande = casa_mas_grande['level5']\n",
        "superficie_grande = casa_mas_grande['surface']\n",
        "casa_mas_pequena = df.loc[df['surface'].idxmin()]\n",
        "direccion_pequena = casa_mas_pequena['level5']\n",
        "superficie_pequena = casa_mas_pequena['surface']\n",
        "print(f\"La casa más grande está ubicada en {direccion_grande} y su superficie es de {int(superficie_grande)} metros\")\n",
        "print(f\"La casa más pequeña está ubicada en {direccion_pequena} y su superficie es de {int(superficie_pequena)} metros\")"
      ]
    },
    {
      "attachments": {},
      "cell_type": "markdown",
      "id": "danish-spirit",
      "metadata": {},
      "source": [
        "#### Ejercicio 04. ¿Cuantas poblaciones contiene el dataset? (★☆☆)\n",
        "\n",
        "Cuenta el número de poblaciones únicas en la columna 'level5' e imprime el nombre de las poblaciones separadas por coma. Por ejemplo:\n",
        "\n",
        "`> print(populations)`\n",
        "\n",
        "`population1, population2, population3, ...`"
      ]
    },
    {
      "cell_type": "code",
      "execution_count": 14,
      "id": "exciting-accreditation",
      "metadata": {},
      "outputs": [
        {
          "name": "stdout",
          "output_type": "stream",
          "text": [
            "Número de poblaciones: 168\n",
            "Arganda del Rey, Fuenlabrada, Boadilla del Monte, Las Rozas de Madrid,  Madrid Capital, Villaviciosa de Odón, Pinto, Valdemoro, Navalcarnero, Pozuelo de Alarcón, Torrejón de Ardoz, Navalagamella, San Sebastián de los Reyes, Rivas-vaciamadrid, Alpedrete, Móstoles, San Fernando de Henares, Coslada, Becerril de la Sierra, Alcalá de Henares, Chinchón, Parla, Alcorcón, El Escorial, Leganés, Pedrezuela, Majadahonda, Villanueva de la Cañada, Villanueva del Pardillo, Torrelodones, Moralzarzal, Mejorada del Campo, Aranjuez, Corpa, Getafe, Velilla de San Antonio, Sevilla la Nueva, San Martín de la Vega, Villalbilla, Collado Villalba, Alcobendas, El Molar (Madrid), Moraleja de Enmedio, Algete, Campo Real, Torrejón de la Calzada, Colmenar Viejo, Valdemorillo, Fuente El Saz de Jarama, Tres Cantos, Arroyomolinos (Madrid), Griñón, Paracuellos de Jarama, Guadarrama, Titulcia, Galapagar, Collado Mediano, Los Molinos, San Lorenzo de El Escorial, Loeches, San Martín de Valdeiglesias, Navas del Rey, Bustarviejo, Manzanares El Real, Carabaña, Casarrubuelos, Cercedilla, Fresnedillas de la Oliva, Valdemaqueda, Robledo de Chavela, Miraflores de la Sierra, Humanes de Madrid, Valdetorres de Jarama, San Agustín del Guadalix, Ciempozuelos, Camarma de Esteruelas, Torres de la Alameda, Talamanca de Jarama, El Atazar, Hoyo de Manzanares, El Boalo - Cerceda – Mataelpino, El Álamo, Valdilecha, Valdeolmos-Alalpardo, Guadalix de la Sierra, Belmonte de Tajo, El Vellón, Brunete, Redueña, Morata de Tajuña, Tielmes, Gargantilla del Lozoya, Meco, Venturada, Quijorna, Cenicientos, Torrejón de Velasco, Navacerrada, Santa María de la Alameda, Orusco de Tajuña, Daganzo de Arriba, Villamanta, Anchuelo, Valdaracete, Ajalvir, Los Santos de la Humosa, Villamanrique de Tajo, Colmenar de Oreja, Villa del Prado, Fuentidueña de Tajo, Colmenar del Arroyo, Valdelaguna, Cubas de la Sagra, Valdeavero, Aldea del Fresno, Ribatejada, Torrelaguna, Batres, Pezuela de las Torres, Colmenarejo, Serranillos del Valle, Cobeña, Soto del Real, El Berrueco, Villanueva de Perales, Fresno de Torote - Serracines, Pozuelo del Rey, Pelayos de la Presa, La Cabrera, Nuevo Baztán, Perales de Tajuña, Villaconejos, Villarejo de Salvanés, Cadalso de los Vidrios, Santorcaz, Madarcos, Garganta de los Montes, Puentes Viejas, Torremocha de Jarama, Valdemanco, Braojos, Lozoyuela-navas-sieteiglesias, Piñuécar-gandullas, Valdepiélagos, Valverde de Alcalá, Villar del Olmo, Villamantilla, Horcajo de la Sierra, Gascones, Zarzalejo, Villavieja del Lozoya, Brea de Tajo, Estremera, Chapinería, Navarredonda, Patones, Ambite, Navalafuente, Lozoya, Canencia, Cabanillas de la Sierra, Buitrago del Lozoya, Fresno de Torote, Robregordo, Pinilla del Valle, Rascafría, La Hiruela, Montejo de la Sierra\n"
          ]
        }
      ],
      "source": [
        "# TODO\n",
        "import pandas as pd\n",
        "df = pd.read_csv('assets/real_estate.csv', sep=';')\n",
        "poblaciones = df['level5'].dropna().unique()\n",
        "print(f\"Número de poblaciones: {len(poblaciones)}\")\n",
        "print(\", \".join(poblaciones))\n"
      ]
    },
    {
      "attachments": {},
      "cell_type": "markdown",
      "id": "crazy-blame",
      "metadata": {},
      "source": [
        "#### Ejercicio 05. ¿El dataset contiene valores nulos (NAs)? (★☆☆)\n",
        "\n",
        "Imprima un booleano (`True` o `False`) para verificar si hay valores nulos seguido de las columnas que contiene el NAs."
      ]
    },
    {
      "cell_type": "code",
      "execution_count": 16,
      "id": "transparent-poetry",
      "metadata": {},
      "outputs": [
        {
          "name": "stdout",
          "output_type": "stream",
          "text": [
            "True\n",
            "Columnas con valores nulos: ['realEstate_name', 'phone_realEstate', 'rooms', 'bathrooms', 'surface', 'description', 'level4', 'level6', 'level7', 'level8', 'zipCode', 'customZone']\n"
          ]
        }
      ],
      "source": [
        "# TODO\n",
        "import pandas as pd\n",
        "df = pd.read_csv('assets/real_estate.csv', sep=';')\n",
        "tiene_nulos = df.isnull().values.any()\n",
        "print(tiene_nulos)\n",
        "if tiene_nulos:\n",
        "    columnas_con_nulos = df.columns[df.isnull().any()].tolist()\n",
        "    print(\"Columnas con valores nulos:\", columnas_con_nulos)"
      ]
    },
    {
      "attachments": {},
      "cell_type": "markdown",
      "id": "italic-hydrogen",
      "metadata": {},
      "source": [
        "#### Ejercicio 06. Elimina los valores nulos (NAs) del dataset, si aplica (★★☆)\n",
        "\n",
        "Despues de eliminar los valores nulos, compara el tamaño del DataFrame antes y después de la eliminación.\n"
      ]
    },
    {
      "cell_type": "code",
      "execution_count": 20,
      "id": "administrative-roads",
      "metadata": {},
      "outputs": [
        {
          "name": "stdout",
          "output_type": "stream",
          "text": [
            "Filas antes de eliminar NAs: 15335\n",
            "Filas después de eliminar NAs: 14085\n",
            "Se eliminaron 1250 filas con valores nulos.\n"
          ]
        }
      ],
      "source": [
        "# TODO\n",
        "import pandas as pd\n",
        "df = pd.read_csv('assets/real_estate.csv', sep=';')\n",
        "filas_antes = df.shape[0]\n",
        "df_sin_nulos = df.dropna(subset=['price', 'level5', 'surface'])\n",
        "filas_despues = df_sin_nulos.shape[0]\n",
        "print(f\"Filas antes de eliminar NAs: {filas_antes}\")\n",
        "print(f\"Filas después de eliminar NAs: {filas_despues}\")\n",
        "print(f\"Se eliminaron {filas_antes - filas_despues} filas con valores nulos.\")"
      ]
    },
    {
      "attachments": {},
      "cell_type": "markdown",
      "id": "middle-china",
      "metadata": {},
      "source": [
        "#### Ejercicio 07. ¿Cuál es la media de precios en la población de \"Arroyomolinos (Madrid)\"? (★★☆)\n",
        "\n",
        "Imprima el valor obtenido de la columna level5."
      ]
    },
    {
      "cell_type": "code",
      "execution_count": 19,
      "id": "nuclear-belief",
      "metadata": {},
      "outputs": [
        {
          "name": "stdout",
          "output_type": "stream",
          "text": [
            "La media de precios en Arroyomolinos (Madrid) es de 294,541.60 EUR\n"
          ]
        }
      ],
      "source": [
        "# TODO\n",
        "import pandas as pd\n",
        "df = pd.read_csv('assets/real_estate.csv', sep=';')\n",
        "filtro = df['level5'] == \"Arroyomolinos (Madrid)\"\n",
        "arroyomolinos = df[filtro]\n",
        "media_precio = arroyomolinos['price'].mean()\n",
        "print(f\"La media de precios en Arroyomolinos (Madrid) es de {media_precio:,.2f} EUR\")"
      ]
    },
    {
      "attachments": {},
      "cell_type": "markdown",
      "id": "concerned-radical",
      "metadata": {},
      "source": [
        "#### Ejercicio 08. Trazar el histograma de los precios para la población de \"Arroyomolinos (Madrid)\" y explica qué observas (★★☆)\n",
        "\n",
        "Imprime el histograma de los precios y escribe en la celda del Markdown un breve análisis del trazado.\n"
      ]
    },
    {
      "cell_type": "code",
      "execution_count": 22,
      "id": "sudden-message",
      "metadata": {},
      "outputs": [
        {
          "data": {
            "image/png": "[encoded data removed]",
            "text/plain": [
              "<Figure size 1000x600 with 1 Axes>"
            ]
          },
          "metadata": {},
          "output_type": "display_data"
        }
      ],
      "source": [
        "import matplotlib.pyplot as plt\n",
        "\n",
        "# Trazar el histograma de precios\n",
        "import pandas as pd\n",
        "import seaborn as sns\n",
        "df = pd.read_csv('assets/real_estate.csv', sep=';')\n",
        "arroyomolinos = df[df['level5'] == \"Arroyomolinos (Madrid)\"]\n",
        "plt.figure(figsize=(10, 6))\n",
        "sns.histplot(arroyomolinos['price'], bins=30, kde=True, color='skyblue')\n",
        "plt.title(\"Distribución de precios en Arroyomolinos (Madrid)\")\n",
        "plt.xlabel(\"Precio (EUR)\")\n",
        "plt.ylabel(\"Frecuencia\")\n",
        "plt.grid(True)\n",
        "plt.show()"
      ]
    },
    {
      "attachments": {},
      "cell_type": "markdown",
      "id": "impressed-combination",
      "metadata": {},
      "source": [
        " Segun lo que se puede analizar del histograma, los precios estan situados en un rango de 100000 a 400000, lo que la vuelve una poblacion medianamente cara."
      ]
    }
  ],
  "metadata": {
    "kernelspec": {
      "display_name": "Python 3",
      "language": "python",
      "name": "python3"
    },
    "language_info": {
      "codemirror_mode": {
        "name": "ipython",
        "version": 3
      },
      "file_extension": ".py",
      "mimetype": "text/x-python",
      "name": "python",
      "nbconvert_exporter": "python",
      "pygments_lexer": "ipython3",
      "version": "3.11.4"
    }
  },
  "nbformat": 4,
  "nbformat_minor": 5
}
